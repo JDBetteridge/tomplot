{
 "cells": [
  {
   "cell_type": "code",
   "execution_count": 1,
   "id": "3e6655b7",
   "metadata": {},
   "outputs": [],
   "source": [
    "from netCDF4 import Dataset"
   ]
  },
  {
   "cell_type": "code",
   "execution_count": 2,
   "id": "4925961c",
   "metadata": {},
   "outputs": [],
   "source": [
    "new_data = Dataset('/data/users/tbendall/vector_transport_paper/conv_1_quads_cylinder/global_output.nc', 'w')\n",
    "new_data.createDimension('run_id', None)\n",
    "new_data.createDimension('time', 1)\n",
    "new_data.createVariable('run_id', int, ('run_id',))\n",
    "new_data.createVariable('time', float, ('time',))\n",
    "new_data.createGroup('F_0')\n",
    "new_data.createGroup('F_1')\n",
    "new_data.createGroup('F_2')\n",
    "new_data['F_0'].createGroup('errors')\n",
    "new_data['F_1'].createGroup('errors')\n",
    "new_data['F_2'].createGroup('errors')\n",
    "new_data['F_0']['errors'].createVariable('L2_error', float, ('run_id', 'time'))\n",
    "new_data['F_1']['errors'].createVariable('L2_error', float, ('run_id', 'time'))\n",
    "new_data['F_2']['errors'].createVariable('L2_error', float, ('run_id', 'time'))\n",
    "\n",
    "new_data.createVariable('dx', float, ('run_id',))\n",
    "new_data.createVariable('dt', float, ('run_id',))\n",
    "\n",
    "new_data['time'][0] = 100.0\n",
    "\n",
    "new_data.close()"
   ]
  },
  {
   "cell_type": "code",
   "execution_count": 3,
   "id": "6c0c8674",
   "metadata": {},
   "outputs": [],
   "source": [
    "old_files = ['dt0pt002', 'dt0pt002_160', 'dt0pt002_208', 'dt0pt002_240']\n",
    "nxs = [160,176,186,192,200]\n",
    "\n",
    "new_data = Dataset('/data/users/tbendall/vector_transport_paper/conv_1_quads_cylinder/global_output.nc', 'a')\n",
    "\n",
    "for old_file in old_files:\n",
    "    old_data = Dataset(f'/data/users/tbendall/vector_transport_paper/conv_1_{old_file}/global_output.nc', 'r')\n",
    "    \n",
    "    for i, old_run_id in enumerate(old_data['run_id'][:]):\n",
    "        if old_data['nx'][i] in nxs:\n",
    "            new_run_id = len(new_data['run_id'][:])\n",
    "            new_data['run_id'][new_run_id] = new_run_id\n",
    "            new_data['dx'][new_run_id] = old_data['dx'][i]\n",
    "            new_data['F_0']['errors']['L2_error'][new_run_id, -1] = old_data['F_0']['errors']['L2_error'][i,-1]\n",
    "            new_data['F_1']['errors']['L2_error'][new_run_id, -1] = old_data['F_1']['errors']['L2_error'][i,-1]\n",
    "            new_data['F_2']['errors']['L2_error'][new_run_id, -1] = old_data['F_2']['errors']['L2_error'][i,-1]\n",
    "\n",
    "    old_data.close()"
   ]
  },
  {
   "cell_type": "code",
   "execution_count": 4,
   "id": "afd7da0a",
   "metadata": {},
   "outputs": [],
   "source": [
    "old_data = Dataset(f'/data/users/tbendall/results/vector_transport_paper/conv_1_dt0pt002/global_output.nc', 'r')"
   ]
  },
  {
   "cell_type": "code",
   "execution_count": 6,
   "id": "7f539a9d",
   "metadata": {},
   "outputs": [
    {
     "data": {
      "text/plain": [
       "<class 'netCDF4._netCDF4.Group'>\n",
       "group /F_0:\n",
       "    dimensions(sizes): \n",
       "    variables(dimensions): <class 'str'> scheme(run_id), <class 'str'> temporal_discretisation(run_id), <class 'str'> spatial_discretisation(run_id), <class 'str'> space(run_id), <class 'str'> coords(run_id), <class 'str'> equation_form(run_id), <class 'str'> vector_manifold(run_id)\n",
       "    groups: global_quantities, errors"
      ]
     },
     "execution_count": 6,
     "metadata": {},
     "output_type": "execute_result"
    }
   ],
   "source": [
    "old_data['F_0']"
   ]
  },
  {
   "cell_type": "code",
   "execution_count": null,
   "id": "b1abf94e",
   "metadata": {},
   "outputs": [],
   "source": []
  }
 ],
 "metadata": {
  "kernelspec": {
   "display_name": "Python 3 (ipykernel)",
   "language": "python",
   "name": "python3"
  },
  "language_info": {
   "codemirror_mode": {
    "name": "ipython",
    "version": 3
   },
   "file_extension": ".py",
   "mimetype": "text/x-python",
   "name": "python",
   "nbconvert_exporter": "python",
   "pygments_lexer": "ipython3",
   "version": "3.7.12"
  }
 },
 "nbformat": 4,
 "nbformat_minor": 5
}
