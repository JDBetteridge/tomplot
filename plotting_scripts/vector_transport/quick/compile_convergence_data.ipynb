{
 "cells": [
  {
   "cell_type": "code",
   "execution_count": 1,
   "id": "3e6655b7",
   "metadata": {},
   "outputs": [],
   "source": [
    "from netCDF4 import Dataset"
   ]
  },
  {
   "cell_type": "code",
   "execution_count": 2,
   "id": "4925961c",
   "metadata": {},
   "outputs": [],
   "source": [
    "new_data = Dataset('/net/home/h01/tbendall/results/vector_transport_paper/conv_1_dt_all/global_output.nc', 'w')\n",
    "new_data.createDimension('run_id', None)\n",
    "new_data.createDimension('time', 1)\n",
    "new_data.createVariable('run_id', int, ('run_id',))\n",
    "new_data.createVariable('time', float, ('time',))\n",
    "new_data.createGroup('F_rec')\n",
    "new_data.createGroup('F_vort')\n",
    "new_data['F_rec'].createGroup('errors')\n",
    "new_data['F_vort'].createGroup('errors')\n",
    "new_data['F_rec']['errors'].createVariable('L2_error', float, ('run_id', 'time'))\n",
    "new_data['F_vort']['errors'].createVariable('L2_error', float, ('run_id', 'time'))\n",
    "\n",
    "new_data.createVariable('dx', float, ('run_id',))\n",
    "new_data.createVariable('dt', float, ('run_id',))\n",
    "\n",
    "new_data['time'][0] = 100.0\n",
    "\n",
    "new_data.close()"
   ]
  },
  {
   "cell_type": "code",
   "execution_count": 3,
   "id": "6c0c8674",
   "metadata": {},
   "outputs": [],
   "source": [
    "old_files = ['dt0pt005', 'dt0pt01', 'dt0pt02', 'dt0pt05', 'dt0pt005_190', 'dt0pt005_200', 'dt0pt005_210','dt0pt002', 'dt0pt002_160', 'dt0pt002_208', 'dt0pt002_240']\n",
    "dts = [0.005, 0.01, 0.02, 0.05, 0.005, 0.005, 0.005, 0.002, 0.002, 0.002, 0.002]\n",
    "vort_idxs = [4,4,4,2,2,2,2,2,2,2,2]\n",
    "\n",
    "store_run_ids = []\n",
    "\n",
    "new_data = Dataset('/net/home/h01/tbendall/results/vector_transport_paper/conv_1_dt_all/global_output.nc', 'a')\n",
    "\n",
    "for old_file, dt, vort_idx in zip(old_files, dts, vort_idxs):\n",
    "    old_data = Dataset(f'/net/home/h01/tbendall/results/vector_transport_paper/conv_1_{old_file}/global_output.nc', 'r')\n",
    "    \n",
    "    some_run_ids = []\n",
    "    \n",
    "    for i, old_run_id in enumerate(old_data['run_id'][:]):\n",
    "        new_run_id = len(new_data['run_id'][:])\n",
    "        new_data['run_id'][new_run_id] = new_run_id\n",
    "        new_data['dt'][new_run_id] = dt\n",
    "        new_data['dx'][new_run_id] = old_data['dx'][i]\n",
    "        new_data['F_rec']['errors']['L2_error'][new_run_id, -1] = old_data['F_1']['errors']['L2_error'][i,-1]\n",
    "        new_data['F_vort']['errors']['L2_error'][new_run_id, -1] = old_data[f'F_{vort_idx}']['errors']['L2_error'][i,-1]\n",
    "        some_run_ids.append(new_run_id)\n",
    "    \n",
    "    store_run_ids.append(some_run_ids)\n",
    "    old_data.close()"
   ]
  },
  {
   "cell_type": "code",
   "execution_count": 4,
   "id": "afd7da0a",
   "metadata": {},
   "outputs": [
    {
     "data": {
      "text/plain": [
       "[[0, 1, 2, 3, 4, 5, 6],\n",
       " [7, 8, 9, 10, 11, 12, 13],\n",
       " [14, 15, 16, 17, 18, 19, 20],\n",
       " [21, 22, 23, 24, 25],\n",
       " [26],\n",
       " [27],\n",
       " [28],\n",
       " [29, 30, 31, 32]]"
      ]
     },
     "execution_count": 4,
     "metadata": {},
     "output_type": "execute_result"
    }
   ],
   "source": [
    "store_run_ids"
   ]
  },
  {
   "cell_type": "code",
   "execution_count": 3,
   "id": "7f539a9d",
   "metadata": {},
   "outputs": [
    {
     "data": {
      "text/plain": [
       "'/net/home/h01/tbendall/tomplot/plotting_scripts/vector_transport/quick'"
      ]
     },
     "execution_count": 3,
     "metadata": {},
     "output_type": "execute_result"
    }
   ],
   "source": [
    "pwd"
   ]
  },
  {
   "cell_type": "code",
   "execution_count": null,
   "id": "b1abf94e",
   "metadata": {},
   "outputs": [],
   "source": []
  }
 ],
 "metadata": {
  "kernelspec": {
   "display_name": "Python 3 (ipykernel)",
   "language": "python",
   "name": "python3"
  },
  "language_info": {
   "codemirror_mode": {
    "name": "ipython",
    "version": 3
   },
   "file_extension": ".py",
   "mimetype": "text/x-python",
   "name": "python",
   "nbconvert_exporter": "python",
   "pygments_lexer": "ipython3",
   "version": "3.7.12"
  }
 },
 "nbformat": 4,
 "nbformat_minor": 5
}
